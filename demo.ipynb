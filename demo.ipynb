{
 "cells": [
  {
   "cell_type": "code",
   "execution_count": 5,
   "metadata": {},
   "outputs": [],
   "source": [
    "import numpy as np\n",
    "from collections import Counter\n",
    "import torch\n",
    "import torch.nn.functional as F"
   ]
  },
  {
   "cell_type": "code",
   "execution_count": 6,
   "metadata": {},
   "outputs": [],
   "source": [
    "def pairwise_euclidean_distance(x, y):\n",
    "    cost = torch.sum(x ** 2, axis=1, keepdim=True) + torch.sum(y ** 2, dim=1) - 2 * torch.matmul(x, y.t())\n",
    "    return cost"
   ]
  },
  {
   "cell_type": "code",
   "execution_count": 7,
   "metadata": {},
   "outputs": [],
   "source": [
    "init_b_dist = None\n",
    "init_a_dist = None\n",
    "a_dist = None\n",
    "b_dist = None\n",
    "sinkhorn_alpha = 3.0\n",
    "OT_max_iter = 5000\n",
    "stopThr=.5e-2\n",
    "epsilon = 1e-16"
   ]
  },
  {
   "cell_type": "code",
   "execution_count": 8,
   "metadata": {},
   "outputs": [],
   "source": [
    "def forward(x, y):\n",
    "  # Sinkhorn's algorithm\n",
    "  M = pairwise_euclidean_distance(x, y) # 欧几里得距离\n",
    "  device = M.device\n",
    "\n",
    "  if init_a_dist is None:\n",
    "      a = (torch.ones(M.shape[0]) / M.shape[0]).unsqueeze(1).to(device)\n",
    "  else:\n",
    "      a = F.softmax(a_dist, dim=0).to(device)\n",
    "\n",
    "  if init_b_dist is None:\n",
    "      b = (torch.ones(M.shape[1]) / M.shape[1]).unsqueeze(1).to(device)\n",
    "  else:\n",
    "      b = F.softmax(b_dist, dim=0).to(device)\n",
    "\n",
    "  u = (torch.ones_like(a) / a.size()[0]).to(device) # Kx1\n",
    "\n",
    "  K = torch.exp(-M * sinkhorn_alpha) # 指数\n",
    "  err = 1\n",
    "  cpt = 0\n",
    "  while err > stopThr and cpt < OT_max_iter:\n",
    "      v = torch.div(b, torch.matmul(K.t(), u) + epsilon) # torch.div 数组的’点除’运算\n",
    "      u = torch.div(a, torch.matmul(K, v) + epsilon)\n",
    "      cpt += 1\n",
    "      if cpt % 50 == 1:\n",
    "          bb = torch.mul(v, torch.matmul(K.t(), u)) # 矩阵点乘运算\n",
    "          err = torch.norm(torch.sum(torch.abs(bb - b), dim=0), p=float('inf'))\n",
    "\n",
    "  transp = u * (K * v.T)\n",
    "\n",
    "  loss_ETP = torch.sum(transp * M)\n",
    "\n",
    "  return loss_ETP, transp"
   ]
  },
  {
   "cell_type": "code",
   "execution_count": 9,
   "metadata": {},
   "outputs": [],
   "source": [
    "x = torch.tensor([[1.0, 2.0], [3.0, 4.0], [5.0, 6.0]], dtype=torch.float32)\n",
    "y = torch.tensor([[1.0, 2.0], [3.0, 4.0], [5.0, 6.0]], dtype=torch.float32)"
   ]
  },
  {
   "cell_type": "code",
   "execution_count": 10,
   "metadata": {},
   "outputs": [
    {
     "name": "stdout",
     "output_type": "stream",
     "text": [
      "tensor(4.0268e-10)\n",
      "tensor([[3.3333e-01, 1.2584e-11, 6.7683e-43],\n",
      "        [1.2584e-11, 3.3333e-01, 1.2584e-11],\n",
      "        [6.7683e-43, 1.2584e-11, 3.3333e-01]])\n"
     ]
    }
   ],
   "source": [
    "loss,transp =  forward(x, y)\n",
    "\n",
    "print(loss)\n",
    "print(transp)"
   ]
  },
  {
   "cell_type": "code",
   "execution_count": 14,
   "metadata": {},
   "outputs": [
    {
     "data": {
      "text/plain": [
       "array([1. , 0.4, 0.4, 0.2, 0.2])"
      ]
     },
     "execution_count": 14,
     "metadata": {},
     "output_type": "execute_result"
    }
   ],
   "source": []
  },
  {
   "cell_type": "code",
   "execution_count": null,
   "metadata": {},
   "outputs": [],
   "source": []
  }
 ],
 "metadata": {
  "kernelspec": {
   "display_name": "topic-model",
   "language": "python",
   "name": "python3"
  },
  "language_info": {
   "codemirror_mode": {
    "name": "ipython",
    "version": 3
   },
   "file_extension": ".py",
   "mimetype": "text/x-python",
   "name": "python",
   "nbconvert_exporter": "python",
   "pygments_lexer": "ipython3",
   "version": "3.10.14"
  }
 },
 "nbformat": 4,
 "nbformat_minor": 2
}
