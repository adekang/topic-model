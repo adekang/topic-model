{
 "cells": [
  {
   "cell_type": "code",
   "id": "initial_id",
   "metadata": {
    "collapsed": true,
    "ExecuteTime": {
     "end_time": "2024-09-25T02:08:51.279798Z",
     "start_time": "2024-09-25T02:08:50.883724Z"
    }
   },
   "source": "import pandas as pd",
   "outputs": [],
   "execution_count": 1
  },
  {
   "metadata": {
    "ExecuteTime": {
     "end_time": "2024-09-25T02:11:46.464201Z",
     "start_time": "2024-09-25T02:11:46.418197Z"
    }
   },
   "cell_type": "code",
   "source": [
    "# 读取数据\n",
    "data = pd.read_csv('wos_by_title.csv')\n",
    "data.head()"
   ],
   "id": "e00223382f9f0dbd",
   "outputs": [
    {
     "data": {
      "text/plain": [
       "                                               title  \\\n",
       "0  Coordination Energetic Materials-Scientific Cu...   \n",
       "1                   Polynigrogen Energetic Materials   \n",
       "2                   Polynigrogen Energetic Materials   \n",
       "3                      Nanoscale energetic materials   \n",
       "4    MATERIALS Isomers matter in energetic materials   \n",
       "\n",
       "                                                  by  \\\n",
       "0  Pawlus, K  ( Pawlus, Klaudia )  [1]  ;  Jarosz...   \n",
       "1                                                NaN   \n",
       "2                                                NaN   \n",
       "3  Rossi, C  ( Rossi, Carole )  [1]  ;  Estève, A...   \n",
       "4                  Halford, B  ( Halford, Bethany )    \n",
       "\n",
       "                                              source      publish  \\\n",
       "0        Volume 12 Issue 20 DOI 10.3390/app122010498     OCT 2022   \n",
       "1  Volume 19 Issue 3 Page 319-329 DOI 10.9766/KIM...         2016   \n",
       "2  Volume 19 Issue 3 Page 319-329 DOI 10.9766/KIM...         2016   \n",
       "3  Volume 71 Issue 2 Page 57-58 Special Issue SI ...     FEB 2010   \n",
       "4                        Volume 97 Issue 32 Page 6-6  AUG 12 2019   \n",
       "\n",
       "  early_access     indexed  document_type  \\\n",
       "0          NaN  2022-11-02            NaN   \n",
       "1          NaN  2016-07-07            NaN   \n",
       "2          NaN  2016-07-07            NaN   \n",
       "3          NaN  2010-02-01            NaN   \n",
       "4          NaN  2019-08-26            NaN   \n",
       "\n",
       "                                            abstract  \\\n",
       "0  Significant incentives for developing and intr...   \n",
       "1  Current research trends of prediction of possi...   \n",
       "2  Current research trends of prediction of possi...   \n",
       "3                                                NaN   \n",
       "4                                                NaN   \n",
       "\n",
       "                                            keywords language       citations  \\\n",
       "0  Author Keywords coordination compounds energet...  English    3  Citations   \n",
       "1  Author Keywords Polynitrogen Energetic Materia...   Korean     1  Citation   \n",
       "2  Author Keywords Polynitrogen Energetic Materia...   Korean     1  Citation   \n",
       "3                                                NaN  English   68  Citations   \n",
       "4                                                NaN  English    0 Citations    \n",
       "\n",
       "   cited_references       issn         accession_no  \n",
       "0              24.0        NaN  WOS:000872185500001  \n",
       "1               NaN  1598-9127     KJD:ART002112697  \n",
       "2               NaN  1598-9127     KJD:ART002112697  \n",
       "3              10.0  0022-3697  WOS:000274841200001  \n",
       "4               1.0  0009-2347  WOS:000480373200008  "
      ],
      "text/html": [
       "<div>\n",
       "<style scoped>\n",
       "    .dataframe tbody tr th:only-of-type {\n",
       "        vertical-align: middle;\n",
       "    }\n",
       "\n",
       "    .dataframe tbody tr th {\n",
       "        vertical-align: top;\n",
       "    }\n",
       "\n",
       "    .dataframe thead th {\n",
       "        text-align: right;\n",
       "    }\n",
       "</style>\n",
       "<table border=\"1\" class=\"dataframe\">\n",
       "  <thead>\n",
       "    <tr style=\"text-align: right;\">\n",
       "      <th></th>\n",
       "      <th>title</th>\n",
       "      <th>by</th>\n",
       "      <th>source</th>\n",
       "      <th>publish</th>\n",
       "      <th>early_access</th>\n",
       "      <th>indexed</th>\n",
       "      <th>document_type</th>\n",
       "      <th>abstract</th>\n",
       "      <th>keywords</th>\n",
       "      <th>language</th>\n",
       "      <th>citations</th>\n",
       "      <th>cited_references</th>\n",
       "      <th>issn</th>\n",
       "      <th>accession_no</th>\n",
       "    </tr>\n",
       "  </thead>\n",
       "  <tbody>\n",
       "    <tr>\n",
       "      <th>0</th>\n",
       "      <td>Coordination Energetic Materials-Scientific Cu...</td>\n",
       "      <td>Pawlus, K  ( Pawlus, Klaudia )  [1]  ;  Jarosz...</td>\n",
       "      <td>Volume 12 Issue 20 DOI 10.3390/app122010498</td>\n",
       "      <td>OCT 2022</td>\n",
       "      <td>NaN</td>\n",
       "      <td>2022-11-02</td>\n",
       "      <td>NaN</td>\n",
       "      <td>Significant incentives for developing and intr...</td>\n",
       "      <td>Author Keywords coordination compounds energet...</td>\n",
       "      <td>English</td>\n",
       "      <td>3  Citations</td>\n",
       "      <td>24.0</td>\n",
       "      <td>NaN</td>\n",
       "      <td>WOS:000872185500001</td>\n",
       "    </tr>\n",
       "    <tr>\n",
       "      <th>1</th>\n",
       "      <td>Polynigrogen Energetic Materials</td>\n",
       "      <td>NaN</td>\n",
       "      <td>Volume 19 Issue 3 Page 319-329 DOI 10.9766/KIM...</td>\n",
       "      <td>2016</td>\n",
       "      <td>NaN</td>\n",
       "      <td>2016-07-07</td>\n",
       "      <td>NaN</td>\n",
       "      <td>Current research trends of prediction of possi...</td>\n",
       "      <td>Author Keywords Polynitrogen Energetic Materia...</td>\n",
       "      <td>Korean</td>\n",
       "      <td>1  Citation</td>\n",
       "      <td>NaN</td>\n",
       "      <td>1598-9127</td>\n",
       "      <td>KJD:ART002112697</td>\n",
       "    </tr>\n",
       "    <tr>\n",
       "      <th>2</th>\n",
       "      <td>Polynigrogen Energetic Materials</td>\n",
       "      <td>NaN</td>\n",
       "      <td>Volume 19 Issue 3 Page 319-329 DOI 10.9766/KIM...</td>\n",
       "      <td>2016</td>\n",
       "      <td>NaN</td>\n",
       "      <td>2016-07-07</td>\n",
       "      <td>NaN</td>\n",
       "      <td>Current research trends of prediction of possi...</td>\n",
       "      <td>Author Keywords Polynitrogen Energetic Materia...</td>\n",
       "      <td>Korean</td>\n",
       "      <td>1  Citation</td>\n",
       "      <td>NaN</td>\n",
       "      <td>1598-9127</td>\n",
       "      <td>KJD:ART002112697</td>\n",
       "    </tr>\n",
       "    <tr>\n",
       "      <th>3</th>\n",
       "      <td>Nanoscale energetic materials</td>\n",
       "      <td>Rossi, C  ( Rossi, Carole )  [1]  ;  Estève, A...</td>\n",
       "      <td>Volume 71 Issue 2 Page 57-58 Special Issue SI ...</td>\n",
       "      <td>FEB 2010</td>\n",
       "      <td>NaN</td>\n",
       "      <td>2010-02-01</td>\n",
       "      <td>NaN</td>\n",
       "      <td>NaN</td>\n",
       "      <td>NaN</td>\n",
       "      <td>English</td>\n",
       "      <td>68  Citations</td>\n",
       "      <td>10.0</td>\n",
       "      <td>0022-3697</td>\n",
       "      <td>WOS:000274841200001</td>\n",
       "    </tr>\n",
       "    <tr>\n",
       "      <th>4</th>\n",
       "      <td>MATERIALS Isomers matter in energetic materials</td>\n",
       "      <td>Halford, B  ( Halford, Bethany )</td>\n",
       "      <td>Volume 97 Issue 32 Page 6-6</td>\n",
       "      <td>AUG 12 2019</td>\n",
       "      <td>NaN</td>\n",
       "      <td>2019-08-26</td>\n",
       "      <td>NaN</td>\n",
       "      <td>NaN</td>\n",
       "      <td>NaN</td>\n",
       "      <td>English</td>\n",
       "      <td>0 Citations</td>\n",
       "      <td>1.0</td>\n",
       "      <td>0009-2347</td>\n",
       "      <td>WOS:000480373200008</td>\n",
       "    </tr>\n",
       "  </tbody>\n",
       "</table>\n",
       "</div>"
      ]
     },
     "execution_count": 5,
     "metadata": {},
     "output_type": "execute_result"
    }
   ],
   "execution_count": 5
  },
  {
   "metadata": {
    "ExecuteTime": {
     "end_time": "2024-09-25T02:13:47.503039Z",
     "start_time": "2024-09-25T02:13:47.486989Z"
    }
   },
   "cell_type": "code",
   "source": [
    "# 根据 accession_no 去重\n",
    "data = data.drop_duplicates(subset='accession_no')\n",
    "data.shape"
   ],
   "id": "6063bf34f017aac7",
   "outputs": [
    {
     "data": {
      "text/plain": [
       "(2145, 14)"
      ]
     },
     "execution_count": 7,
     "metadata": {},
     "output_type": "execute_result"
    }
   ],
   "execution_count": 7
  },
  {
   "metadata": {
    "ExecuteTime": {
     "end_time": "2024-09-25T02:14:22.778788Z",
     "start_time": "2024-09-25T02:14:22.758731Z"
    }
   },
   "cell_type": "code",
   "source": [
    "# 只保留 language 为 English 的数据\n",
    "data = data[data['language'] == 'English']\n",
    "data.shape"
   ],
   "id": "39e93240b1987fa8",
   "outputs": [
    {
     "data": {
      "text/plain": [
       "(2098, 14)"
      ]
     },
     "execution_count": 8,
     "metadata": {},
     "output_type": "execute_result"
    }
   ],
   "execution_count": 8
  },
  {
   "metadata": {
    "ExecuteTime": {
     "end_time": "2024-09-25T02:14:51.168244Z",
     "start_time": "2024-09-25T02:14:51.149450Z"
    }
   },
   "cell_type": "code",
   "source": [
    "# 删除 abstract 为空的数据\n",
    "data = data.dropna(subset=['abstract'])\n",
    "data.shape"
   ],
   "id": "6437cf6c0f3bffb6",
   "outputs": [
    {
     "data": {
      "text/plain": [
       "(1954, 14)"
      ]
     },
     "execution_count": 9,
     "metadata": {},
     "output_type": "execute_result"
    }
   ],
   "execution_count": 9
  },
  {
   "metadata": {},
   "cell_type": "code",
   "outputs": [],
   "execution_count": null,
   "source": [
    "# publish 保留后四位\n",
    "data['publish'] = data['publish'].str[-4:]\n",
    "data.head()"
   ],
   "id": "c344f1b0382ed9fb"
  },
  {
   "metadata": {
    "ExecuteTime": {
     "end_time": "2024-09-25T02:20:14.389844Z",
     "start_time": "2024-09-25T02:20:14.381740Z"
    }
   },
   "cell_type": "code",
   "source": [
    "# 只保留 title 、 abstract 、 publish 三列\n",
    "data = data[['title', 'abstract', 'publish']]\n",
    "# data.head()\n",
    "data.shape"
   ],
   "id": "8a7bb655926b52c",
   "outputs": [
    {
     "data": {
      "text/plain": [
       "(1954, 3)"
      ]
     },
     "execution_count": 17,
     "metadata": {},
     "output_type": "execute_result"
    }
   ],
   "execution_count": 17
  },
  {
   "metadata": {
    "ExecuteTime": {
     "end_time": "2024-09-25T02:19:31.618639Z",
     "start_time": "2024-09-25T02:19:31.577013Z"
    }
   },
   "cell_type": "code",
   "outputs": [],
   "execution_count": 14,
   "source": [
    "# 保存数据\n",
    "data.to_csv('wos_with_title.csv', index=False)"
   ],
   "id": "fdedd12e44ccc054"
  },
  {
   "metadata": {},
   "cell_type": "code",
   "outputs": [],
   "execution_count": null,
   "source": "",
   "id": "4fe6a4bcf256c53f"
  }
 ],
 "metadata": {
  "kernelspec": {
   "display_name": "Python 3",
   "language": "python",
   "name": "python3"
  },
  "language_info": {
   "codemirror_mode": {
    "name": "ipython",
    "version": 2
   },
   "file_extension": ".py",
   "mimetype": "text/x-python",
   "name": "python",
   "nbconvert_exporter": "python",
   "pygments_lexer": "ipython2",
   "version": "2.7.6"
  }
 },
 "nbformat": 4,
 "nbformat_minor": 5
}
