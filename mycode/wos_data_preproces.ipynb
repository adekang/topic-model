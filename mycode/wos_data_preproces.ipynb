{
 "cells": [
  {
   "cell_type": "code",
   "id": "initial_id",
   "metadata": {
    "collapsed": true,
    "ExecuteTime": {
     "end_time": "2024-09-25T05:03:20.027146Z",
     "start_time": "2024-09-25T05:03:20.011452Z"
    }
   },
   "source": [
    "import topmost\n",
    "from topmost.data import RawDataset\n",
    "from topmost.preprocessing import Preprocessing\n",
    "import pandas as pd"
   ],
   "outputs": [],
   "execution_count": 2
  },
  {
   "metadata": {
    "ExecuteTime": {
     "end_time": "2024-09-25T05:04:35.022640Z",
     "start_time": "2024-09-25T05:04:34.993672Z"
    }
   },
   "cell_type": "code",
   "source": [
    "# 读取文件\n",
    "df = pd.read_csv('wos_with_title.csv')\n",
    "# 选取需要的列 'abstract'\n",
    "docs = df['abstract'].tolist()"
   ],
   "id": "a85fd90e1182d9ac",
   "outputs": [],
   "execution_count": 5
  },
  {
   "metadata": {
    "ExecuteTime": {
     "end_time": "2024-09-25T05:16:27.499297Z",
     "start_time": "2024-09-25T05:16:26.957809Z"
    }
   },
   "cell_type": "code",
   "source": [
    "preprocessing = Preprocessing(vocab_size=5000, test_sample_size=0.3,stopwords='English')\n",
    "\n",
    "device = 'cuda' # or 'cpu'\n",
    "dataset = RawDataset(docs, preprocessing, device=device)\n",
    "\n",
    "print(dataset)"
   ],
   "id": "330dfa94b32d221d",
   "outputs": [
    {
     "name": "stderr",
     "output_type": "stream",
     "text": [
      "loading train texts: 100%|██████████| 1954/1954 [00:00<00:00, 4762.27it/s]\n",
      "2024-09-25 13:16:27,388 - TopMost - sample train and test sets...\n"
     ]
    },
    {
     "ename": "UnboundLocalError",
     "evalue": "local variable 'test_idx' referenced before assignment",
     "output_type": "error",
     "traceback": [
      "\u001B[1;31m---------------------------------------------------------------------------\u001B[0m",
      "\u001B[1;31mUnboundLocalError\u001B[0m                         Traceback (most recent call last)",
      "Cell \u001B[1;32mIn[14], line 4\u001B[0m\n\u001B[0;32m      1\u001B[0m preprocessing \u001B[38;5;241m=\u001B[39m Preprocessing(vocab_size\u001B[38;5;241m=\u001B[39m\u001B[38;5;241m5000\u001B[39m, test_sample_size\u001B[38;5;241m=\u001B[39m\u001B[38;5;241m0.3\u001B[39m,stopwords\u001B[38;5;241m=\u001B[39m\u001B[38;5;124m'\u001B[39m\u001B[38;5;124mEnglish\u001B[39m\u001B[38;5;124m'\u001B[39m)\n\u001B[0;32m      3\u001B[0m device \u001B[38;5;241m=\u001B[39m \u001B[38;5;124m'\u001B[39m\u001B[38;5;124mcuda\u001B[39m\u001B[38;5;124m'\u001B[39m \u001B[38;5;66;03m# or 'cpu'\u001B[39;00m\n\u001B[1;32m----> 4\u001B[0m dataset \u001B[38;5;241m=\u001B[39m \u001B[43mRawDataset\u001B[49m\u001B[43m(\u001B[49m\u001B[43mdocs\u001B[49m\u001B[43m,\u001B[49m\u001B[43m \u001B[49m\u001B[43mpreprocessing\u001B[49m\u001B[43m,\u001B[49m\u001B[43m \u001B[49m\u001B[43mdevice\u001B[49m\u001B[38;5;241;43m=\u001B[39;49m\u001B[43mdevice\u001B[49m\u001B[43m)\u001B[49m\n\u001B[0;32m      6\u001B[0m \u001B[38;5;28mprint\u001B[39m(dataset)\n",
      "File \u001B[1;32mD:\\software\\anaconda\\envs\\topic-model\\lib\\site-packages\\topmost\\data\\basic_dataset.py:56\u001B[0m, in \u001B[0;36mRawDataset.__init__\u001B[1;34m(self, docs, preprocessing, batch_size, device, as_tensor, contextual_embed, pretrained_WE, doc_embed_model, embed_model_device, verbose)\u001B[0m\n\u001B[0;32m     53\u001B[0m \u001B[38;5;28;01mif\u001B[39;00m preprocessing \u001B[38;5;129;01mis\u001B[39;00m \u001B[38;5;28;01mNone\u001B[39;00m:\n\u001B[0;32m     54\u001B[0m     preprocessing \u001B[38;5;241m=\u001B[39m Preprocessing(verbose\u001B[38;5;241m=\u001B[39mverbose)\n\u001B[1;32m---> 56\u001B[0m rst \u001B[38;5;241m=\u001B[39m \u001B[43mpreprocessing\u001B[49m\u001B[38;5;241;43m.\u001B[39;49m\u001B[43mpreprocess\u001B[49m\u001B[43m(\u001B[49m\u001B[43mdocs\u001B[49m\u001B[43m,\u001B[49m\u001B[43m \u001B[49m\u001B[43mpretrained_WE\u001B[49m\u001B[38;5;241;43m=\u001B[39;49m\u001B[43mpretrained_WE\u001B[49m\u001B[43m)\u001B[49m\n\u001B[0;32m     57\u001B[0m \u001B[38;5;28mself\u001B[39m\u001B[38;5;241m.\u001B[39mtrain_data \u001B[38;5;241m=\u001B[39m rst[\u001B[38;5;124m'\u001B[39m\u001B[38;5;124mtrain_bow\u001B[39m\u001B[38;5;124m'\u001B[39m]\n\u001B[0;32m     58\u001B[0m \u001B[38;5;28mself\u001B[39m\u001B[38;5;241m.\u001B[39mtrain_texts \u001B[38;5;241m=\u001B[39m rst[\u001B[38;5;124m'\u001B[39m\u001B[38;5;124mtrain_texts\u001B[39m\u001B[38;5;124m'\u001B[39m]\n",
      "File \u001B[1;32mD:\\software\\anaconda\\envs\\topic-model\\lib\\site-packages\\topmost\\preprocessing\\preprocessing.py:303\u001B[0m, in \u001B[0;36mPreprocessing.preprocess\u001B[1;34m(self, raw_train_texts, train_labels, raw_test_texts, test_labels, pretrained_WE)\u001B[0m\n\u001B[0;32m    300\u001B[0m logger\u001B[38;5;241m.\u001B[39minfo(\u001B[38;5;124m\"\u001B[39m\u001B[38;5;124msample train and test sets...\u001B[39m\u001B[38;5;124m\"\u001B[39m)\n\u001B[0;32m    302\u001B[0m train_num \u001B[38;5;241m=\u001B[39m \u001B[38;5;28mlen\u001B[39m(train_idx)\n\u001B[1;32m--> 303\u001B[0m test_num \u001B[38;5;241m=\u001B[39m \u001B[38;5;28mlen\u001B[39m(\u001B[43mtest_idx\u001B[49m)\n\u001B[0;32m    304\u001B[0m test_sample_size \u001B[38;5;241m=\u001B[39m \u001B[38;5;28mmin\u001B[39m(test_num, \u001B[38;5;28mself\u001B[39m\u001B[38;5;241m.\u001B[39mtest_sample_size)\n\u001B[0;32m    305\u001B[0m train_sample_size \u001B[38;5;241m=\u001B[39m \u001B[38;5;28mint\u001B[39m((test_sample_size \u001B[38;5;241m/\u001B[39m \u001B[38;5;28mself\u001B[39m\u001B[38;5;241m.\u001B[39mtest_p) \u001B[38;5;241m*\u001B[39m (\u001B[38;5;241m1\u001B[39m \u001B[38;5;241m-\u001B[39m \u001B[38;5;28mself\u001B[39m\u001B[38;5;241m.\u001B[39mtest_p))\n",
      "\u001B[1;31mUnboundLocalError\u001B[0m: local variable 'test_idx' referenced before assignment"
     ]
    }
   ],
   "execution_count": 14
  },
  {
   "metadata": {
    "ExecuteTime": {
     "end_time": "2024-09-25T05:10:12.025741Z",
     "start_time": "2024-09-25T05:09:56.609605Z"
    }
   },
   "cell_type": "code",
   "source": [
    "trainer = topmost.trainers.FASTopicTrainer(dataset, verbose=True)\n",
    "top_words, doc_topic_dist = trainer.train()"
   ],
   "id": "445802844d3e20f4",
   "outputs": [
    {
     "name": "stderr",
     "output_type": "stream",
     "text": [
      "2024-09-25 13:09:56,611 - FASTopic - use device: cuda\n",
      "loading train texts: 100%|██████████| 1954/1954 [00:00<00:00, 7635.48it/s]\n",
      "parsing texts: 100%|██████████| 1954/1954 [00:00<00:00, 9391.95it/s]\n",
      "2024-09-25 13:10:00,054 - TopMost - Real vocab size: 10000\n",
      "2024-09-25 13:10:00,064 - TopMost - Real training size: 1954 \t avg length: 103.931\n",
      "Training FASTopic:   3%|▎         | 6/200 [00:00<00:03, 57.87it/s]2024-09-25 13:10:03,160 - FASTopic - Epoch: 010 loss: 955.682\n",
      "Training FASTopic:   8%|▊         | 16/200 [00:00<00:06, 27.79it/s]2024-09-25 13:10:03,614 - FASTopic - Epoch: 020 loss: 938.669\n",
      "Training FASTopic:  14%|█▍        | 29/200 [00:01<00:07, 23.76it/s]2024-09-25 13:10:04,057 - FASTopic - Epoch: 030 loss: 919.002\n",
      "Training FASTopic:  19%|█▉        | 38/200 [00:01<00:07, 20.93it/s]2024-09-25 13:10:04,573 - FASTopic - Epoch: 040 loss: 902.508\n",
      "Training FASTopic:  24%|██▎       | 47/200 [00:01<00:07, 19.94it/s]2024-09-25 13:10:05,064 - FASTopic - Epoch: 050 loss: 889.201\n",
      "Training FASTopic:  30%|██▉       | 59/200 [00:02<00:06, 21.12it/s]2024-09-25 13:10:05,532 - FASTopic - Epoch: 060 loss: 878.005\n",
      "Training FASTopic:  34%|███▍      | 68/200 [00:02<00:05, 22.23it/s]2024-09-25 13:10:05,985 - FASTopic - Epoch: 070 loss: 868.372\n",
      "Training FASTopic:  38%|███▊      | 77/200 [00:03<00:05, 22.67it/s]2024-09-25 13:10:06,414 - FASTopic - Epoch: 080 loss: 859.859\n",
      "Training FASTopic:  44%|████▍     | 89/200 [00:03<00:04, 23.61it/s]2024-09-25 13:10:06,834 - FASTopic - Epoch: 090 loss: 852.340\n",
      "Training FASTopic:  49%|████▉     | 98/200 [00:04<00:04, 22.12it/s]2024-09-25 13:10:07,312 - FASTopic - Epoch: 100 loss: 845.667\n",
      "Training FASTopic:  54%|█████▎    | 107/200 [00:04<00:04, 20.68it/s]2024-09-25 13:10:07,804 - FASTopic - Epoch: 110 loss: 839.618\n",
      "Training FASTopic:  60%|█████▉    | 119/200 [00:05<00:03, 21.27it/s]2024-09-25 13:10:08,277 - FASTopic - Epoch: 120 loss: 834.148\n",
      "Training FASTopic:  64%|██████▍   | 128/200 [00:05<00:03, 21.91it/s]2024-09-25 13:10:08,733 - FASTopic - Epoch: 130 loss: 829.109\n",
      "Training FASTopic:  68%|██████▊   | 137/200 [00:06<00:02, 22.64it/s]2024-09-25 13:10:09,166 - FASTopic - Epoch: 140 loss: 824.419\n",
      "Training FASTopic:  74%|███████▍  | 149/200 [00:06<00:02, 23.74it/s]2024-09-25 13:10:09,576 - FASTopic - Epoch: 150 loss: 820.116\n",
      "Training FASTopic:  79%|███████▉  | 158/200 [00:07<00:01, 23.00it/s]2024-09-25 13:10:10,043 - FASTopic - Epoch: 160 loss: 816.088\n",
      "Training FASTopic:  84%|████████▎ | 167/200 [00:07<00:01, 20.35it/s]2024-09-25 13:10:10,557 - FASTopic - Epoch: 170 loss: 812.300\n",
      "Training FASTopic:  90%|████████▉ | 179/200 [00:08<00:00, 21.21it/s]2024-09-25 13:10:11,013 - FASTopic - Epoch: 180 loss: 808.716\n",
      "Training FASTopic:  94%|█████████▍| 188/200 [00:08<00:00, 22.28it/s]2024-09-25 13:10:11,458 - FASTopic - Epoch: 190 loss: 805.308\n",
      "Training FASTopic:  98%|█████████▊| 197/200 [00:08<00:00, 22.71it/s]2024-09-25 13:10:11,896 - FASTopic - Epoch: 200 loss: 802.078\n",
      "Training FASTopic: 100%|██████████| 200/200 [00:08<00:00, 22.30it/s]\n"
     ]
    },
    {
     "name": "stdout",
     "output_type": "stream",
     "text": [
      "Topic 0: tagzt omega onc featurization htvs cubic deepen genarris vacancy valence putative datb coppens nitroester hansen\n",
      "Topic 1: pzdo eccs dione coformers dmdnp pxrd thriving apgr originally surge denotation crown paying pertinence mmems\n",
      "Topic 2: nanosized ehda ultrasonically celcius nanoenergetics alternate naclo intimacy tubular chromium secure hebm classically perfluoropolyether ggnt\n",
      "Topic 3: cavity boundary modelled detonations simplified oscillatory spinning subgrid momentum exchanges hydrocode augmented gabp collapsing convergence\n",
      "Topic 4: dap catalyst catalytic mof perovskite iodine oxidant oxidizers catalysts oxides dabco fuel metal assembled oxidizer\n",
      "Topic 5: polynitrogen hyper mdnt tetrazacycloctane ellipsoid vorticity fluctuates interstitial baroclinic collocated tortuosity sealing minimizes sicoh photoresist\n",
      "Topic 6: nitromethyl propulsive bistetrazoles dnbtt structuring fluorodinitromethyl isomeric branched regioselective fluorodinitromethylfuroxan peracid monoxide bishomocubane nmdnp regiochemistry\n",
      "Topic 7: nano nanoparticles shell graphene silicon particles sized cuo composites nanoscale nanotubes core aluminum iron microscopy\n",
      "Topic 8: review energetics research requirements future development application technology applications desired materials issues design engineering current\n",
      "Topic 9: cellulose adn atz dina azidomethyl recrystallization ngo microcrystalline fpw copolymer rsms pvac intercalation trimerizing reflecting\n",
      "Topic 10: elastic anisotropic moduli stiffness datnbi discontinuity phonons tnbp brillouin orientational soecs castep polarized microspectroscopy adxrd\n",
      "Topic 11: collapse pore finite shock voids void interface loading microstructure microstructures element hotspot interfaces heterogeneous fluid\n",
      "Topic 12: tetrazolium aminotetrazole hydrazine cbs bam chloride metathesis tester aminoguanidinium nitroguanidine nitriminotetrazole nitrimino monohydrate nitrotetrazolate nitriminotetrazolate\n",
      "Topic 13: addressing hdi supersaturation dispersant preserved injecting precipitating mechanochemical pei interrupted absolutely fortran preignition metalloid mills\n",
      "Topic 14: electrochemical friendly liquids ils renewable scaffold environmentally purification oxetane electrolysis amphoteric azto strained triiodo electrophilic\n",
      "Topic 15: salts triazole nmr elemental bis triazolo amino compound cation synthesized oxadiazole sensitivities compounds furazan oxadiazol\n",
      "Topic 16: guest host cocrystals strategy castable fused dot hns center cocrystal chapter hniw frameworks hedms insensitivity\n",
      "Topic 17: nitroaniline mtni cis dnb cosmo photodecomposition nitrobenzene centralite acta dadne text maxima uniquac wilson nitropropane\n",
      "Topic 18: radiation measurement explosion dielectric dose measure oam gerada diferentes enclosure analyse improvised vibrometry usepackage fibras\n",
      "Topic 19: cyclo aromatic excited fox opening ring nitrite pathway isomerization product furoxan path radical barrier ground\n",
      "Topic 20: burning flame combustion ignition steady phenomenon microwave negative erosion delay micro periodic institute ohmic msi\n",
      "Topic 21: modes lattice beta phonon vibrational crystals ambient polymorphs compression raman alpha gamma phases cell frequencies\n",
      "Topic 22: lwir spectral mid standoff thz discrimination sep pls eye das shot foram terahertz uma por\n",
      "Topic 23: evolutionary monosubstituted positional surpasses reinforces covalently difluoro embedding weakens helping extremes exploit earliest think deeply\n",
      "Topic 24: esters acyclic nitroaliphatics publication unsuitable ict written constantly hydrides visual stereo favoured representatives approved respectable\n",
      "Topic 25: laser plasma imaging libs pulse beam wavelength pulsed electromagnetic printing emission duration absorption optical wire\n",
      "Topic 26: kinetic ftir isothermal sublimation activation kinetics dsc decomposition delta melting enthalpies kcal mol calorimeter equal\n",
      "Topic 27: backbones fascinating esp isomerism planarization indazole nci vicinal enrich methoxy ethene diversified cal exceptionally benzopyridotetraazapentalene\n",
      "Topic 28: dtazf maldi hbpo scxrd fazem desenvolver positivo respectivas induzida consistiram movimento tipos intensivamente sobre inertes\n",
      "Topic 29: detection sensor sensors peroxide chromatography concentrations biological traces trinitrotoluene soil residues microencapsulated pickup swabbing hmtd\n",
      "Topic 30: pcm biomass solar waste building raw consumption exergy straw valorization daily fins electricity agro reactors\n",
      "Topic 31: optimum membrane gasification grafting heater nems thermoelectric coli steam transformative catabolic pool connectivity seebeck cathode\n",
      "Topic 32: tfo uncontrolled diluted stems transpire seldom thrusts pentolite chirped irrefutably alternatively opposition inconsistencies benchtop realtime\n",
      "Topic 33: alo zeldovich round sudden perforated timescales thermocouple crucibles photoinitiation spike coincides substantiated ablated agreed graybody\n",
      "Topic 34: adsorbed semiconductors disordered nanotechnology tethered nem aggregations graphitic hopping mgo polaron tethering monolayer slabs stilbene\n",
      "Topic 35: silica sputtering healing manufacturing adhesion soft ecms destruction layers fabrication packings arrays screw hardness wafer\n",
      "Topic 36: prediction learning predictive models machine algorithm accuracy predicting meso neural predictions descriptors modeling set uncertainties\n",
      "Topic 37: removal retained isotope imagery prototypes sea assurance soils ssl respiration dumping sir bioaccumulation igc united\n",
      "Topic 38: compatibility formulations formulation dnan polymer propellant coating pbxs powders binder propellants powder pellets dntf testing\n",
      "Topic 39: presentation compensate entirely dvst lap simplicity sas liu dpa assumes programming masson quadratic iterative generalizability\n",
      "Topic 40: polymers desensitizing covered pteo gbp permeation defeat era anpz polyphenol disulfide futuristic multiwalled agnws diphenyl\n",
      "Topic 41: stacking trigger rho bde hof fluorine hofs packing bond intramolecular face designed hirshfeld bonds group\n",
      "Topic 42: esms compressive extrusion fracture ptfe failure crack strength static pressing cracks quasi specimens shear cracking\n",
      "Topic 43: force reaxff dynamics atomistic atomic clusters atoms cluster atom defects breaking simulations eiss eoss hindrance\n",
      "Topic 44: module psd dyna author dconab directional violent jammed perfectly ise penetrating thrusters microcracks wires durability\n",
      "Topic 45: zwitterionic tetrazoles polycyclic bridged bistetrazole atrz cyclization azides furazans bipyrazole anpyo tetracyclic kms conjugation amination\n",
      "Topic 46: nitration toxicity nitroimino pyrimidine receptor voltammetric abdnaz azetidine amines acetonitrile trinitroimidazole bsa mlr iodination imide\n",
      "Topic 47: scz tnr crystallize doyles semicarbazide titp enriches diformyl pale precedes looping lighter heavier downfalls tetrazenium\n",
      "Topic 48: triazoles azoxy triazolate triazol dinitramino nno hnf triazene ium nitroformate impulses dinitropyridine butyl trinitroethylamino cyanogen\n",
      "Topic 49: container violence mortar odtx guideline fragmentation assessments leaching stanag naval avoided wettability groundwater methodological runaway\n"
     ]
    }
   ],
   "execution_count": 11
  },
  {
   "metadata": {
    "ExecuteTime": {
     "end_time": "2024-09-25T05:14:10.255703Z",
     "start_time": "2024-09-25T05:14:07.500828Z"
    }
   },
   "cell_type": "code",
   "source": [
    " ########################### Evaluate ####################################\n",
    "# 获取训练集和测试集的theta (doc-topic分布)\n",
    "train_theta, test_theta = trainer.export_theta()\n",
    "\n",
    "# evaluate topic diversity\n",
    "TD = topmost.evaluations.compute_topic_diversity(top_words)\n",
    "print(f\"TD: {TD:.5f}\")\n",
    "\n",
    "TC = topmost.evaluations.compute_topic_coherence(dataset.train_texts, dataset.vocab, top_words)\n",
    "print(f\"TC: {TC:.5f}\")"
   ],
   "id": "ab46e2974fc96270",
   "outputs": [
    {
     "ename": "AttributeError",
     "evalue": "'RawDataset' object has no attribute 'test_texts'",
     "output_type": "error",
     "traceback": [
      "\u001B[1;31m---------------------------------------------------------------------------\u001B[0m",
      "\u001B[1;31mAttributeError\u001B[0m                            Traceback (most recent call last)",
      "Cell \u001B[1;32mIn[13], line 3\u001B[0m\n\u001B[0;32m      1\u001B[0m \u001B[38;5;66;03m########################### Evaluate ####################################\u001B[39;00m\n\u001B[0;32m      2\u001B[0m \u001B[38;5;66;03m# 获取训练集和测试集的theta (doc-topic分布)\u001B[39;00m\n\u001B[1;32m----> 3\u001B[0m train_theta, _ \u001B[38;5;241m=\u001B[39m \u001B[43mtrainer\u001B[49m\u001B[38;5;241;43m.\u001B[39;49m\u001B[43mexport_theta\u001B[49m\u001B[43m(\u001B[49m\u001B[43m)\u001B[49m\n\u001B[0;32m      5\u001B[0m \u001B[38;5;66;03m# evaluate topic diversity\u001B[39;00m\n\u001B[0;32m      6\u001B[0m TD \u001B[38;5;241m=\u001B[39m topmost\u001B[38;5;241m.\u001B[39mevaluations\u001B[38;5;241m.\u001B[39mcompute_topic_diversity(top_words)\n",
      "File \u001B[1;32mD:\\software\\anaconda\\envs\\topic-model\\lib\\site-packages\\topmost\\trainers\\basic\\FASTopic_trainer.py:58\u001B[0m, in \u001B[0;36mFASTopicTrainer.export_theta\u001B[1;34m(self)\u001B[0m\n\u001B[0;32m     56\u001B[0m \u001B[38;5;28;01mdef\u001B[39;00m \u001B[38;5;21mexport_theta\u001B[39m(\u001B[38;5;28mself\u001B[39m):\n\u001B[0;32m     57\u001B[0m     train_theta \u001B[38;5;241m=\u001B[39m \u001B[38;5;28mself\u001B[39m\u001B[38;5;241m.\u001B[39mtest(\u001B[38;5;28mself\u001B[39m\u001B[38;5;241m.\u001B[39mdataset\u001B[38;5;241m.\u001B[39mtrain_texts)\n\u001B[1;32m---> 58\u001B[0m     test_theta \u001B[38;5;241m=\u001B[39m \u001B[38;5;28mself\u001B[39m\u001B[38;5;241m.\u001B[39mtest(\u001B[38;5;28;43mself\u001B[39;49m\u001B[38;5;241;43m.\u001B[39;49m\u001B[43mdataset\u001B[49m\u001B[38;5;241;43m.\u001B[39;49m\u001B[43mtest_texts\u001B[49m)\n\u001B[0;32m     59\u001B[0m     \u001B[38;5;28;01mreturn\u001B[39;00m train_theta, test_theta\n",
      "\u001B[1;31mAttributeError\u001B[0m: 'RawDataset' object has no attribute 'test_texts'"
     ]
    }
   ],
   "execution_count": 13
  },
  {
   "metadata": {},
   "cell_type": "code",
   "outputs": [],
   "execution_count": null,
   "source": "",
   "id": "b9755122eb23db2d"
  }
 ],
 "metadata": {
  "kernelspec": {
   "display_name": "Python 3",
   "language": "python",
   "name": "python3"
  },
  "language_info": {
   "codemirror_mode": {
    "name": "ipython",
    "version": 2
   },
   "file_extension": ".py",
   "mimetype": "text/x-python",
   "name": "python",
   "nbconvert_exporter": "python",
   "pygments_lexer": "ipython2",
   "version": "2.7.6"
  }
 },
 "nbformat": 4,
 "nbformat_minor": 5
}
